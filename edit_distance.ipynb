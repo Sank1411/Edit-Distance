{
 "cells": [
  {
   "cell_type": "code",
   "execution_count": 31,
   "metadata": {},
   "outputs": [],
   "source": [
    "confusion_matrix = []"
   ]
  },
  {
   "cell_type": "code",
   "execution_count": 50,
   "metadata": {},
   "outputs": [],
   "source": [
    "def edit_distance(input1,input2):\n",
    "    cols = len(input2)\n",
    "    rows = len(input1)\n",
    "    dp = [[0 for x in range(cols+1)] for y in range(rows+1)]\n",
    "    backtrackUtil =  [[0 for x in range(cols+1)] for y in range(rows+1)]\n",
    "    for i in range(rows+1):\n",
    "        dp[i][0] = i\n",
    "        backtrackUtil[i][0] = (i-1,0,1)\n",
    "    for i in range(cols+1):\n",
    "        dp[0][i] = i\n",
    "        backtrackUtil[0][i] = (0,i-1,1)\n",
    "    backtrackUtil[0][0]=None\n",
    "    for i in range(1,rows+1):\n",
    "        for j in range(1,cols+1):\n",
    "            temp = []\n",
    "            temp.append((dp[i-1][j]+1,(i-1,j,1)))\n",
    "            temp.append((dp[i][j-1]+1,(i,j-1,1)))\n",
    "            if input1[i-1]==input2[j-1]:\n",
    "                temp.append((dp[i-1][j-1],(i-1,j-1,0)))\n",
    "            else :\n",
    "                cost=confusion_matrix[ord(input1[i-1]) - 97][ord(input2[j-1]) - 97]\n",
    "                temp.append((dp[i-1][j-1] + cost,(i-1,j-1,cost)))\n",
    "            temp.sort()\n",
    "            dp[i][j] = temp[0][0]\n",
    "            backtrackUtil[i][j] = temp[0][1]\n",
    "\n",
    "    curr_row,curr_col = rows,cols\n",
    "    prev_row,prev_col,cost =  backtrackUtil[curr_row][curr_col]\n",
    "    while(1):\n",
    "        if prev_row==curr_row-1 and prev_col == curr_col-1:\n",
    "            temp1_char = input1[curr_row-1]\n",
    "            temp2_char = input2[curr_col-1]\n",
    "            if temp1_char == temp2_char:\n",
    "                print(\"No change(\",temp2_char,\") \\t\\tCost : 0\")\n",
    "            else:\n",
    "                print(\"Replace\",temp1_char,\"->\",temp2_char,\" \\tCost :\",cost)\n",
    "        elif prev_col==curr_col-1 and prev_row==curr_row:\n",
    "            temp2_char = input2[curr_col-1]\n",
    "            print(\"Insert :\",temp2_char,\" \\t\\tCost : 1\")\n",
    "        elif prev_row==curr_row-1 and prev_col==curr_col:\n",
    "            temp1_char = input1[curr_row-1]\n",
    "            print(\"dpelete :\",temp1_char,\" \\t\\tCost : 1\")\n",
    "        curr_row,curr_col=prev_row,prev_col\n",
    "        if backtrackUtil[prev_row][prev_col]==None:\n",
    "            break\n",
    "        prev_row,prev_col,cost =  backtrackUtil[prev_row][prev_col]\n",
    "            \n",
    "    return dp[rows][cols]"
   ]
  },
  {
   "cell_type": "code",
   "execution_count": 51,
   "metadata": {},
   "outputs": [],
   "source": [
    "def main():\n",
    "    with open('confusion_matrix.txt','r') as file:      \n",
    "        for line in file:     \n",
    "            temp = []\n",
    "            for number in line.split():   \n",
    "                temp.append(int(number))\n",
    "            confusion_matrix.append(temp)\n",
    "    print(\"Enter words on which we need to perform minimum edit distances\")\n",
    "    input1 = input(\"Enter first word:\")\n",
    "    input2 = input(\"Enter second word\")\n",
    "    EditDistance = edit_distance(input1,input2)\n",
    "    print(\"Edit Distance between\",input1,\"and\",input2,\"is :\",EditDistance)"
   ]
  },
  {
   "cell_type": "code",
   "execution_count": 57,
   "metadata": {},
   "outputs": [
    {
     "name": "stdout",
     "output_type": "stream",
     "text": [
      "Enter words on which we need to perform minimum edit distances\n",
      "Enter first word:hydrochloric\n",
      "Enter second wordhydrofluoric\n",
      "No change( c ) \t\tCost : 0\n",
      "No change( i ) \t\tCost : 0\n",
      "No change( r ) \t\tCost : 0\n",
      "No change( o ) \t\tCost : 0\n",
      "Replace l -> u  \tCost : 0\n",
      "Replace h -> l  \tCost : 0\n",
      "dpelete : c  \t\tCost : 1\n",
      "Replace o -> f  \tCost : 0\n",
      "Insert : o  \t\tCost : 1\n",
      "No change( r ) \t\tCost : 0\n",
      "No change( d ) \t\tCost : 0\n",
      "No change( y ) \t\tCost : 0\n",
      "No change( h ) \t\tCost : 0\n",
      "Edit Distance between hydrochloric and hydrofluoric is : 2\n"
     ]
    }
   ],
   "source": [
    "if __name__ == \"__main__\":\n",
    "    main()"
   ]
  },
  {
   "cell_type": "code",
   "execution_count": null,
   "metadata": {},
   "outputs": [],
   "source": []
  }
 ],
 "metadata": {
  "kernelspec": {
   "display_name": "Python 3",
   "language": "python",
   "name": "python3"
  },
  "language_info": {
   "codemirror_mode": {
    "name": "ipython",
    "version": 3
   },
   "file_extension": ".py",
   "mimetype": "text/x-python",
   "name": "python",
   "nbconvert_exporter": "python",
   "pygments_lexer": "ipython3",
   "version": "3.6.5"
  }
 },
 "nbformat": 4,
 "nbformat_minor": 4
}
